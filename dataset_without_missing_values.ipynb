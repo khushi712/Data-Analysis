{
 "cells": [
  {
   "cell_type": "code",
   "execution_count": 24,
   "id": "fc06f897-2cb7-406f-a35b-c32dcb15f8a3",
   "metadata": {},
   "outputs": [],
   "source": [
    "import pandas as pd\n",
    "import numpy as np"
   ]
  },
  {
   "cell_type": "code",
   "execution_count": 25,
   "id": "59e78620-4d89-4f52-8b17-0ad68d432f9f",
   "metadata": {},
   "outputs": [],
   "source": [
    "# File path from the uploaded file\n",
    "file_path = 'hemodat.csv'\n"
   ]
  },
  {
   "cell_type": "code",
   "execution_count": 26,
   "id": "1affb69c-ad69-40d6-89b6-c27da34babda",
   "metadata": {},
   "outputs": [],
   "source": [
    "# Load the data\n",
    "data = pd.read_csv(file_path)\n"
   ]
  },
  {
   "cell_type": "code",
   "execution_count": 27,
   "id": "8c07ca11-b5bc-4dad-a4c5-2440165de555",
   "metadata": {},
   "outputs": [
    {
     "name": "stdout",
     "output_type": "stream",
     "text": [
      "Reordered file saved to hemodat_reordered.csv\n"
     ]
    }
   ],
   "source": [
    "# Specify the desired column order\n",
    "new_order = [\n",
    "    'Category', 'Age', 'Sex', 'ALB', 'ALP', 'ALT', 'AST', 'BIL', \n",
    "    'CHE', 'CHOL', 'CREA', 'GGT', 'PROT', 'Unnamed: 0'\n",
    "]\n",
    "# Reorder the columns\n",
    "data_reordered = data[new_order]\n",
    "#Save the rearranged DataFrame to a new CSV file\n",
    "output_path = 'hemodat_reordered.csv'\n",
    "data_reordered.to_csv(output_path, index=False)\n",
    "print(f\"Reordered file saved to {output_path}\")"
   ]
  },
  {
   "cell_type": "code",
   "execution_count": 28,
   "id": "d6295126-e95c-40b9-bf77-543d92994097",
   "metadata": {},
   "outputs": [
    {
     "name": "stdout",
     "output_type": "stream",
     "text": [
      "          Category  Age Sex   ALB    ALP    ALT    AST   BIL    CHE  CHOL  \\\n",
      "0    0=Blood Donor   32   m  38.5   52.5    7.7   22.1   7.5   6.93  3.23   \n",
      "1    0=Blood Donor   32   m  38.5   70.3   18.0   24.7   3.9  11.17  4.80   \n",
      "2    0=Blood Donor   32   m  46.9   74.7   36.2   52.6   6.1   8.84  5.20   \n",
      "3    0=Blood Donor   32   m  43.2   52.0   30.6   22.6  18.9   7.33  4.74   \n",
      "4    0=Blood Donor   32   m  39.2   74.1   32.6   24.8   9.6   9.15  4.32   \n",
      "..             ...  ...  ..   ...    ...    ...    ...   ...    ...   ...   \n",
      "610    3=Cirrhosis   62   f  32.0  416.6    5.9  110.3  50.0   5.57  6.30   \n",
      "611    3=Cirrhosis   64   f  24.0  102.8    2.9   44.4  20.0   1.54  3.02   \n",
      "612    3=Cirrhosis   64   f  29.0   87.3    3.5   99.0  48.0   1.66  3.63   \n",
      "613    3=Cirrhosis   46   f  33.0    NaN   39.0   62.0  20.0   3.56  4.20   \n",
      "614    3=Cirrhosis   59   f  36.0    NaN  100.0   80.0  12.0   9.07  5.30   \n",
      "\n",
      "      CREA    GGT  PROT  Unnamed: 0  \n",
      "0    106.0   12.1  69.0           1  \n",
      "1     74.0   15.6  76.5           2  \n",
      "2     86.0   33.2  79.3           3  \n",
      "3     80.0   33.8  75.7           4  \n",
      "4     76.0   29.9  68.7           5  \n",
      "..     ...    ...   ...         ...  \n",
      "610   55.7  650.9  68.5         611  \n",
      "611   63.0   35.9  71.3         612  \n",
      "612   66.7   64.2  82.0         613  \n",
      "613   52.0   50.0  71.0         614  \n",
      "614   67.0   34.0  68.0         615  \n",
      "\n",
      "[615 rows x 14 columns]\n"
     ]
    }
   ],
   "source": [
    "print(data_reordered)\n"
   ]
  },
  {
   "cell_type": "code",
   "execution_count": 29,
   "id": "430fff3e-ef0b-4dd4-bc32-0a8949b3543b",
   "metadata": {},
   "outputs": [
    {
     "name": "stdout",
     "output_type": "stream",
     "text": [
      "        Category  Age Sex   ALB   ALP   ALT   AST   BIL    CHE  CHOL   CREA  \\\n",
      "0  0=Blood Donor   32   m  38.5  52.5   7.7  22.1   7.5   6.93  3.23  106.0   \n",
      "1  0=Blood Donor   32   m  38.5  70.3  18.0  24.7   3.9  11.17  4.80   74.0   \n",
      "2  0=Blood Donor   32   m  46.9  74.7  36.2  52.6   6.1   8.84  5.20   86.0   \n",
      "3  0=Blood Donor   32   m  43.2  52.0  30.6  22.6  18.9   7.33  4.74   80.0   \n",
      "4  0=Blood Donor   32   m  39.2  74.1  32.6  24.8   9.6   9.15  4.32   76.0   \n",
      "\n",
      "    GGT  PROT  Unnamed: 0  \n",
      "0  12.1  69.0           1  \n",
      "1  15.6  76.5           2  \n",
      "2  33.2  79.3           3  \n",
      "3  33.8  75.7           4  \n",
      "4  29.9  68.7           5  \n"
     ]
    }
   ],
   "source": [
    "print(data_reordered.head())\n"
   ]
  },
  {
   "cell_type": "code",
   "execution_count": 30,
   "id": "09d21c16-1d06-4f65-9b7e-c6317616d906",
   "metadata": {},
   "outputs": [
    {
     "name": "stdout",
     "output_type": "stream",
     "text": [
      "Dataset Information:\n",
      "<class 'pandas.core.frame.DataFrame'>\n",
      "RangeIndex: 615 entries, 0 to 614\n",
      "Data columns (total 14 columns):\n",
      " #   Column      Non-Null Count  Dtype  \n",
      "---  ------      --------------  -----  \n",
      " 0   Category    615 non-null    object \n",
      " 1   Age         615 non-null    int64  \n",
      " 2   Sex         615 non-null    object \n",
      " 3   ALB         614 non-null    float64\n",
      " 4   ALP         597 non-null    float64\n",
      " 5   ALT         614 non-null    float64\n",
      " 6   AST         615 non-null    float64\n",
      " 7   BIL         615 non-null    float64\n",
      " 8   CHE         615 non-null    float64\n",
      " 9   CHOL        605 non-null    float64\n",
      " 10  CREA        615 non-null    float64\n",
      " 11  GGT         615 non-null    float64\n",
      " 12  PROT        614 non-null    float64\n",
      " 13  Unnamed: 0  615 non-null    int64  \n",
      "dtypes: float64(10), int64(2), object(2)\n",
      "memory usage: 67.4+ KB\n"
     ]
    }
   ],
   "source": [
    "# Exploratory Data Analysis\n",
    "print(\"Dataset Information:\")\n",
    "data_reordered.info()"
   ]
  },
  {
   "cell_type": "code",
   "execution_count": 31,
   "id": "0d376efd-90d3-47b6-a318-660a9d6c44be",
   "metadata": {},
   "outputs": [
    {
     "name": "stdout",
     "output_type": "stream",
     "text": [
      "\n",
      "Summary Statistics:\n",
      "             Category         Age  Sex         ALB         ALP         ALT  \\\n",
      "count             615  615.000000  615  614.000000  597.000000  614.000000   \n",
      "unique              5         NaN    2         NaN         NaN         NaN   \n",
      "top     0=Blood Donor         NaN    m         NaN         NaN         NaN   \n",
      "freq              533         NaN  377         NaN         NaN         NaN   \n",
      "mean              NaN   47.408130  NaN   41.620195   68.283920   28.450814   \n",
      "std               NaN   10.055105  NaN    5.780629   26.028315   25.469689   \n",
      "min               NaN   19.000000  NaN   14.900000   11.300000    0.900000   \n",
      "25%               NaN   39.000000  NaN   38.800000   52.500000   16.400000   \n",
      "50%               NaN   47.000000  NaN   41.950000   66.200000   23.000000   \n",
      "75%               NaN   54.000000  NaN   45.200000   80.100000   33.075000   \n",
      "max               NaN   77.000000  NaN   82.200000  416.600000  325.300000   \n",
      "\n",
      "               AST         BIL         CHE        CHOL         CREA  \\\n",
      "count   615.000000  615.000000  615.000000  605.000000   615.000000   \n",
      "unique         NaN         NaN         NaN         NaN          NaN   \n",
      "top            NaN         NaN         NaN         NaN          NaN   \n",
      "freq           NaN         NaN         NaN         NaN          NaN   \n",
      "mean     34.786341   11.396748    8.196634    5.368099    81.287805   \n",
      "std      33.090690   19.673150    2.205657    1.132728    49.756166   \n",
      "min      10.600000    0.800000    1.420000    1.430000     8.000000   \n",
      "25%      21.600000    5.300000    6.935000    4.610000    67.000000   \n",
      "50%      25.900000    7.300000    8.260000    5.300000    77.000000   \n",
      "75%      32.900000   11.200000    9.590000    6.060000    88.000000   \n",
      "max     324.000000  254.000000   16.410000    9.670000  1079.100000   \n",
      "\n",
      "               GGT        PROT  Unnamed: 0  \n",
      "count   615.000000  614.000000  615.000000  \n",
      "unique         NaN         NaN         NaN  \n",
      "top            NaN         NaN         NaN  \n",
      "freq           NaN         NaN         NaN  \n",
      "mean     39.533171   72.044137  308.000000  \n",
      "std      54.661071    5.402636  177.679487  \n",
      "min       4.500000   44.800000    1.000000  \n",
      "25%      15.700000   69.300000  154.500000  \n",
      "50%      23.300000   72.200000  308.000000  \n",
      "75%      40.200000   75.400000  461.500000  \n",
      "max     650.900000   90.000000  615.000000  \n"
     ]
    }
   ],
   "source": [
    "print(\"\\nSummary Statistics:\")\n",
    "print(data_reordered.describe(include='all'))"
   ]
  },
  {
   "cell_type": "code",
   "execution_count": 32,
   "id": "368a148e-7598-4377-be63-405237c68d6f",
   "metadata": {
    "scrolled": true
   },
   "outputs": [
    {
     "name": "stdout",
     "output_type": "stream",
     "text": [
      "\n",
      "Checking for missing values:\n",
      "Category       0\n",
      "Age            0\n",
      "Sex            0\n",
      "ALB            1\n",
      "ALP           18\n",
      "ALT            1\n",
      "AST            0\n",
      "BIL            0\n",
      "CHE            0\n",
      "CHOL          10\n",
      "CREA           0\n",
      "GGT            0\n",
      "PROT           1\n",
      "Unnamed: 0     0\n",
      "dtype: int64\n"
     ]
    }
   ],
   "source": [
    "print(\"\\nChecking for missing values:\")\n",
    "missing_values = data_reordered.isnull().sum()\n",
    "print(missing_values)"
   ]
  },
  {
   "cell_type": "code",
   "execution_count": 34,
   "id": "9a65727f-b338-4083-b6e7-c30c443a5ad5",
   "metadata": {},
   "outputs": [],
   "source": [
    "\n",
    "# Preprocessing and Imputation\n",
    "# Fill missing numerical values with the mean\n",
    "numerical_columns = data_reordered.select_dtypes(include=[np.number]).columns\n",
    "data_reordered[numerical_columns] = data_reordered[numerical_columns].apply(\n",
    "    lambda x: x.fillna(x.mean())\n",
    ")"
   ]
  },
  {
   "cell_type": "code",
   "execution_count": 35,
   "id": "42f03dba-33e4-475f-b73c-d53f4b9fc1c6",
   "metadata": {},
   "outputs": [],
   "source": [
    "# Fill missing categorical values with the mode\n",
    "categorical_columns = data_reordered.select_dtypes(include=['object']).columns\n",
    "data_reordered[categorical_columns] = data_reordered[categorical_columns].apply(\n",
    "    lambda x: x.fillna(x.mode()[0])\n",
    ")"
   ]
  },
  {
   "cell_type": "code",
   "execution_count": 36,
   "id": "2b46a770-1994-4612-be7c-d34d8c3bb02b",
   "metadata": {},
   "outputs": [
    {
     "name": "stdout",
     "output_type": "stream",
     "text": [
      "\n",
      "After Imputation, Checking for Missing Values:\n",
      "Category      0\n",
      "Age           0\n",
      "Sex           0\n",
      "ALB           0\n",
      "ALP           0\n",
      "ALT           0\n",
      "AST           0\n",
      "BIL           0\n",
      "CHE           0\n",
      "CHOL          0\n",
      "CREA          0\n",
      "GGT           0\n",
      "PROT          0\n",
      "Unnamed: 0    0\n",
      "dtype: int64\n"
     ]
    }
   ],
   "source": [
    "print(\"\\nAfter Imputation, Checking for Missing Values:\")\n",
    "print(data_reordered.isnull().sum())\n"
   ]
  },
  {
   "cell_type": "code",
   "execution_count": 37,
   "id": "becd5b73-bde4-422f-bc6d-abded5d69cab",
   "metadata": {},
   "outputs": [],
   "source": [
    "# Estimate the accuracy of imputation\n",
    "from sklearn.impute import SimpleImputer\n",
    "from sklearn.model_selection import train_test_split\n",
    "from sklearn.metrics import mean_absolute_error"
   ]
  },
  {
   "cell_type": "code",
   "execution_count": 39,
   "id": "0d88e1a5-6755-4544-80b7-3cec49fbdd61",
   "metadata": {},
   "outputs": [
    {
     "name": "stdout",
     "output_type": "stream",
     "text": [
      "Feature: Age, Mean Absolute Error of Imputation: 0.0\n",
      "Feature: ALB, Mean Absolute Error of Imputation: 0.0\n",
      "Feature: ALP, Mean Absolute Error of Imputation: 0.0\n",
      "Feature: ALT, Mean Absolute Error of Imputation: 0.0\n",
      "Feature: AST, Mean Absolute Error of Imputation: 0.0\n",
      "Feature: BIL, Mean Absolute Error of Imputation: 0.0\n",
      "Feature: CHE, Mean Absolute Error of Imputation: 0.0\n",
      "Feature: CHOL, Mean Absolute Error of Imputation: 0.0\n",
      "Feature: CREA, Mean Absolute Error of Imputation: 0.0\n",
      "Feature: GGT, Mean Absolute Error of Imputation: 0.0\n",
      "Feature: PROT, Mean Absolute Error of Imputation: 0.0\n",
      "Feature: Unnamed: 0, Mean Absolute Error of Imputation: 0.0\n",
      "Preprocessed file saved to hemodat_preprocessed.csv\n"
     ]
    }
   ],
   "source": [
    "# Evaluate imputation for numerical features\n",
    "for col in numerical_columns:\n",
    "    original_data = data_reordered[col].dropna()\n",
    "    if len(original_data) > 0:\n",
    "        train, test = train_test_split(original_data, test_size=0.2, random_state=42)\n",
    "        imputer = SimpleImputer(strategy='mean')\n",
    "        imputer.fit(train.values.reshape(-1, 1))\n",
    "        imputed_test = imputer.transform(test.values.reshape(-1, 1))\n",
    "        mae = mean_absolute_error(test, imputed_test)\n",
    "        print(f\"Feature: {col}, Mean Absolute Error of Imputation: {mae}\")\n",
    "\n",
    "# Save the preprocessed and imputed data\n",
    "output_path = 'hemodat_preprocessed.csv'\n",
    "data_reordered.to_csv(output_path, index=False)\n",
    "\n",
    "print(f\"Preprocessed file saved to {output_path}\")\n"
   ]
  },
  {
   "cell_type": "code",
   "execution_count": null,
   "id": "61626b36-255d-47b0-abf6-469a5d1b0c50",
   "metadata": {},
   "outputs": [],
   "source": []
  }
 ],
 "metadata": {
  "kernelspec": {
   "display_name": "Python 3 (ipykernel)",
   "language": "python",
   "name": "python3"
  },
  "language_info": {
   "codemirror_mode": {
    "name": "ipython",
    "version": 3
   },
   "file_extension": ".py",
   "mimetype": "text/x-python",
   "name": "python",
   "nbconvert_exporter": "python",
   "pygments_lexer": "ipython3",
   "version": "3.12.7"
  }
 },
 "nbformat": 4,
 "nbformat_minor": 5
}
